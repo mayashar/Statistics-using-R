{
 "cells": [
  {
   "cell_type": "markdown",
   "metadata": {},
   "source": [
    "## 1. Juanita wears a red shirt 50% of the time. Her brother, Bob, wears a red shirt 20% of the time. Assuming they select their shirts independently, what is the probability that Juanita and Bob will both wear a red shirt on the same day? "
   ]
  },
  {
   "cell_type": "code",
   "execution_count": 1,
   "metadata": {},
   "outputs": [
    {
     "data": {
      "text/html": [
       "'10 %'"
      ],
      "text/latex": [
       "'10 \\%'"
      ],
      "text/markdown": [
       "'10 %'"
      ],
      "text/plain": [
       "[1] \"10 %\""
      ]
     },
     "metadata": {},
     "output_type": "display_data"
    }
   ],
   "source": [
    "red_P_J<-0.50\n",
    "red_P_B<-0.20\n",
    "red_P_both<-red_P_J*red_P_B  # both are independent\n",
    "paste(red_P_both*100, \"%\")"
   ]
  },
  {
   "cell_type": "markdown",
   "metadata": {},
   "source": [
    "# 2. Lets assume the observed probability of Bob and Juanita wearing a red shirt simultaneously is = 0.001.  What can you infer about relationship between these probabilities? "
   ]
  },
  {
   "cell_type": "markdown",
   "metadata": {},
   "source": [
    "### Since the probability here is too much less than 0.1 so can be inferred that both of them wear the same red shirt same day very rarely.There exists some dependency."
   ]
  },
  {
   "cell_type": "markdown",
   "metadata": {},
   "source": [
    "# 3.\tA new screening blood test is designed to detect early HIV infection. 1000 people are screened, out of which 200 come out positive on the test. A gold standard procedure is then used to confirm whether a patient is actually infected with HIV. It turns out that only 100 people are actually infected with HIV, out of which 80 people have positive results on the screening test. What are the sensitivity and specificity of the screening test?  What are the positive predictive value and the negative predictive value of the test? "
   ]
  },
  {
   "cell_type": "markdown",
   "metadata": {},
   "source": [
    "                     yes hiv \t   no hiv\tTotal\n",
    "        test pos\t 80\t           120\t    200\n",
    "        test neg\t 20\t           780\t    800\n",
    "           Total \t100\t          900\t   1000\n",
    "            \n",
    "            sentitivity=p(yes hiv and test pos)/p(hiv tot)\n",
    "                        =80/100=0.80=80%\n",
    "                        \n",
    "            specificity=p(no hiv and test neg)/p(no hiv tot)\n",
    "                       =780/900=0.866=86.6%\n",
    "                       \n",
    "            Positive predictive value=p(yes hiv and test pos)/p(pos tot)\n",
    "                                     = 80/200=0.40=40%\n",
    "            Negative predictive value=p(no hiv and test neg)/p(neg tot)\n",
    "                                     =780/800=0.975=97.5%\n",
    "           "
   ]
  },
  {
   "cell_type": "markdown",
   "metadata": {},
   "source": [
    "# 4. At a middle school, 18% of all students play football and basketball and 32% of all students play football. What is the probability that a student plays basketball given that the student plays football? "
   ]
  },
  {
   "cell_type": "markdown",
   "metadata": {},
   "source": [
    "### given, P(F ∩ B ) = 18%= 0.18 and P(F)= 32%=0.32 \n",
    "### P(B|F)=  P(F ∩ B )/P(F)\n",
    "### = 0.18/o.32= 0.5625\n"
   ]
  },
  {
   "cell_type": "markdown",
   "metadata": {},
   "source": [
    "# 5. Suppose that the height of American men is normally distributed, with a mean of 68 inches and standard deviation of 3 inches. Some men, in an effort to grow taller, have been taking an herbal supplement, marketed as “Spring Up.” You want to know if the supplement works as advertised. You randomly sample 25 of these men (the ones taking the supplement), measure their heights, and find that the average height for the sample is 68.5 inches. "
   ]
  },
  {
   "cell_type": "markdown",
   "metadata": {},
   "source": [
    "## a. State your scientific hypothesis."
   ]
  },
  {
   "cell_type": "markdown",
   "metadata": {},
   "source": [
    "### The hypothesis here is that the height of people taking supplement \"spring up\" is greater than those not taking. There is not any previously available data telling that height of supplement takers are lesser."
   ]
  },
  {
   "cell_type": "markdown",
   "metadata": {},
   "source": [
    "## b. State your statistical hypotheses. Will this be a one- or two-tailed test?"
   ]
  },
  {
   "cell_type": "markdown",
   "metadata": {},
   "source": [
    "Ho: Supplement takers height = No Supplement takers height\n",
    "i.e. H0: μ=68\n",
    "\n",
    "H1: Supplement takers height != No Supplement takers height\n",
    "i.e. H1: μ !=68\n",
    "\n",
    "critical value=2.064, It will be two-tailed test."
   ]
  },
  {
   "cell_type": "markdown",
   "metadata": {},
   "source": [
    "## c. Choose the test statistic you will use to answer your question (Hint: we’ve only talked about one so far). Set your alpha level (α = .05)."
   ]
  },
  {
   "cell_type": "markdown",
   "metadata": {},
   "source": [
    "Here,alpha=0.5 and critical value=2.04 and since, sample size=25 which is less than 30 t-test should be done \n",
    "instead of z-test \n"
   ]
  },
  {
   "cell_type": "markdown",
   "metadata": {},
   "source": [
    "## d. Compute your test statistic and make your decision about the statistical hypotheses."
   ]
  },
  {
   "cell_type": "code",
   "execution_count": 25,
   "metadata": {},
   "outputs": [
    {
     "data": {
      "text/html": [
       "0.833333333333333"
      ],
      "text/latex": [
       "0.833333333333333"
      ],
      "text/markdown": [
       "0.833333333333333"
      ],
      "text/plain": [
       "[1] 0.8333333"
      ]
     },
     "metadata": {},
     "output_type": "display_data"
    }
   ],
   "source": [
    "#t-test=M-mu/(s/root n)\n",
    "M=68.5\n",
    "mu=68\n",
    "s=3\n",
    "a=sqrt(25)\n",
    "t<-(M-mu)/(3/5)\n",
    "t"
   ]
  },
  {
   "cell_type": "code",
   "execution_count": 11,
   "metadata": {},
   "outputs": [
    {
     "data": {
      "text/html": [
       "0.433816167389096"
      ],
      "text/latex": [
       "0.433816167389096"
      ],
      "text/markdown": [
       "0.433816167389096"
      ],
      "text/plain": [
       "[1] 0.4338162"
      ]
     },
     "metadata": {},
     "output_type": "display_data"
    }
   ],
   "source": [
    "pnorm(68,68.5,3)"
   ]
  },
  {
   "cell_type": "markdown",
   "metadata": {},
   "source": [
    "### e. State your conclusion."
   ]
  },
  {
   "cell_type": "markdown",
   "metadata": {},
   "source": [
    "here 0.833<critical value(2.04) and p value is 0.433<0.05 so null hypothesis is rejected."
   ]
  },
  {
   "cell_type": "markdown",
   "metadata": {},
   "source": [
    "### f. Follow-up question (put your thinking caps on!): Suppose you are hired as a consultant to the firm that sells “Spring Up.” What criticism(s) might you offer about the research conducted above, if it calls into question the effectiveness of their herbal supplement in increasing men’s heights?"
   ]
  },
  {
   "cell_type": "markdown",
   "metadata": {},
   "source": [
    "I would like to suggest that since there is not much difference in mean heights between population and sample as well as size of sample is also small,  just one time result may not be rigid one. It would be better if larger sample size taken for the test to come up with better result."
   ]
  }
 ],
 "metadata": {
  "kernelspec": {
   "display_name": "R",
   "language": "R",
   "name": "ir"
  },
  "language_info": {
   "codemirror_mode": "r",
   "file_extension": ".r",
   "mimetype": "text/x-r-source",
   "name": "R",
   "pygments_lexer": "r",
   "version": "3.6.1"
  }
 },
 "nbformat": 4,
 "nbformat_minor": 4
}
